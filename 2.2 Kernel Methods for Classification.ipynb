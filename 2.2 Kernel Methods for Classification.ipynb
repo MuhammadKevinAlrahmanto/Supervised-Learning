{
 "cells": [
  {
   "cell_type": "markdown",
   "id": "6f6747c5",
   "metadata": {},
   "source": [
    "Kernel methods are a class of algorithms used for pattern recognition, regression, and classification. In the context of classification, kernel methods perform non-linear transformation on the input data and map it into a high-dimensional feature space where a linear boundary can be drawn to separate the classes.\n",
    "\n",
    "Some of the popular kernel methods for classification are:\n",
    "\n",
    "1. Support Vector Machines (SVM): SVM is a widely used kernel-based classification algorithm that finds the hyperplane with the maximum margin to separate the classes. It uses the kernel trick to transform the input data into a high-dimensional space.\n",
    "\n",
    "2. Gaussian Process Classification (GPC): GPC is a probabilistic framework for classification that models the distribution of the class labels for each input. It uses a Gaussian process as the prior on the function mapping inputs to outputs.\n",
    "\n",
    "3. k-Nearest Neighbors (k-NN): k-NN is a simple and widely used classification algorithm that assigns a class label to a test sample based on the majority vote of its k-nearest neighbors in the feature space. The kernel trick can be used to perform non-linear transformation on the input data.\n",
    "\n",
    "4. Radial Basis Function (RBF) Network: RBF network is a type of neural network that uses radial basis functions as the activation functions of its hidden neurons. It has been widely used for non-linear classification problems.\n",
    "\n",
    "5. Kernel Discriminant Analysis (KDA): KDA is a dimensionality reduction technique that projects the data into a lower-dimensional space while preserving the class separability. It can be used for both linear and non-linear classification."
   ]
  },
  {
   "cell_type": "code",
   "execution_count": null,
   "id": "76da3424",
   "metadata": {},
   "outputs": [],
   "source": []
  }
 ],
 "metadata": {
  "kernelspec": {
   "display_name": "Python 3 (ipykernel)",
   "language": "python",
   "name": "python3"
  },
  "language_info": {
   "codemirror_mode": {
    "name": "ipython",
    "version": 3
   },
   "file_extension": ".py",
   "mimetype": "text/x-python",
   "name": "python",
   "nbconvert_exporter": "python",
   "pygments_lexer": "ipython3",
   "version": "3.9.12"
  }
 },
 "nbformat": 4,
 "nbformat_minor": 5
}
